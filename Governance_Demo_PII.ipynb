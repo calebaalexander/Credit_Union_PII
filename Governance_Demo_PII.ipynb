{
  "cells": [
    {
      "cell_type": "markdown",
      "metadata": {},
      "source": [
        "# Governance with Horizon (PATELCO Credit Union Demo)\n",
        "\n",
        "This notebook sets up production-grade governance for PII that automatically applies across Snowflake and Cortex (Analyst, Agents, Search, Intelligence). It is intentionally simple: apply controls, then show them working for two roles.\n",
        "\n",
        "Sections:\n",
        "1. Roles and Access Control\n",
        "2. Tag-Based Classification (manual)\n",
        "3. Column-level Security (masking)\n",
        "4. Row Level Security (RLS)\n",
        "5. Data Quality (standard SQL)\n",
        "6. Trust Center (how to review)\n",
        "\n"
      ]
    },
    {
      "cell_type": "code",
      "execution_count": null,
      "metadata": {
        "vscode": {
          "languageId": "sql"
        }
      },
      "outputs": [],
      "source": [
        "/*\n",
        "***************************************************************************************************       \n",
        "Asset:        Zero to Snowflake - Governance with Horizon (PATELCO Demo)\n",
        "Version:      v1     \n",
        "Copyright(c): 2025 Snowflake Inc. All rights reserved.\n",
        "****************************************************************************************************\n",
        "\n",
        "Governance with Horizon - PATELCO Credit Union Demo\n",
        "1. Introduction to Roles and Access Control\n",
        "2. Tag-Based Classification with Manual Tagging\n",
        "3. Column-level Security with Masking Policies\n",
        "4. Row Level Security with Row Access Policies\n",
        "5. Data Quality Monitoring with Standard SQL Checks\n",
        "6. Account Security Monitoring with the Trust Center\n",
        "\n",
        "This notebook sets up production-grade governance for PII that automatically applies \n",
        "across all Snowflake tools, including Cortex (Analyst, Agents, Search, Intelligence).\n",
        "\n",
        "****************************************************************************************************/\n",
        "\n",
        "-- Set the session query tag\n",
        "ALTER SESSION SET query_tag = '{\"origin\":\"sf_demo\",\"name\":\"governance_horizon_patelco\",\"version\":{\"major\":1,\"minor\":0}}';\n",
        "\n",
        "-- Set our Worksheet context\n",
        "USE ROLE accountadmin;\n",
        "USE DATABASE PATELCO_DEMO;\n",
        "USE SCHEMA CREDIT_UNION_DATA;\n",
        "USE WAREHOUSE COMPUTE_WH;\n"
      ]
    },
    {
      "cell_type": "code",
      "execution_count": null,
      "metadata": {
        "vscode": {
          "languageId": "sql"
        }
      },
      "outputs": [],
      "source": [
        "/*  1. Introduction to Roles and Access Control  */\n",
        "\n",
        "-- Create custom roles for credit union governance (ACCOUNTADMIN)\n",
        "USE ROLE accountadmin;\n",
        "USE DATABASE PATELCO_DEMO;\n",
        "USE SCHEMA CREDIT_UNION_DATA;\n",
        "USE WAREHOUSE COMPUTE_WH;\n",
        "\n",
        "CREATE OR REPLACE ROLE compliance_officer COMMENT = 'Full access for regulatory oversight';\n",
        "CREATE OR REPLACE ROLE data_analyst COMMENT = 'Restricted analytics role with PII protection';\n"
      ]
    },
    {
      "cell_type": "code",
      "execution_count": null,
      "metadata": {
        "vscode": {
          "languageId": "sql"
        }
      },
      "outputs": [],
      "source": [
        "-- Environment prep (ACCOUNTADMIN): ensure objects exist\n",
        "USE ROLE accountadmin;\n",
        "\n",
        "-- Database and schema (idempotent)\n",
        "CREATE DATABASE IF NOT EXISTS PATELCO_DEMO;\n",
        "CREATE SCHEMA   IF NOT EXISTS PATELCO_DEMO.CREDIT_UNION_DATA;\n",
        "\n",
        "-- Warehouse (idempotent)\n",
        "CREATE WAREHOUSE IF NOT EXISTS COMPUTE_WH\n",
        "  WAREHOUSE_SIZE = 'SMALL'\n",
        "  AUTO_SUSPEND   = 60\n",
        "  AUTO_RESUME    = TRUE;\n",
        "ALTER WAREHOUSE COMPUTE_WH RESUME IF SUSPENDED;\n"
      ]
    },
    {
      "cell_type": "code",
      "execution_count": null,
      "metadata": {
        "vscode": {
          "languageId": "sql"
        }
      },
      "outputs": [],
      "source": []
    },
    {
      "cell_type": "code",
      "execution_count": null,
      "metadata": {
        "vscode": {
          "languageId": "sql"
        }
      },
      "outputs": [],
      "source": [
        "-- Grants (ACCOUNTADMIN to avoid org-level restrictions)\n",
        "USE ROLE accountadmin;\n",
        "USE DATABASE PATELCO_DEMO;\n",
        "USE SCHEMA CREDIT_UNION_DATA;\n",
        "ALTER WAREHOUSE COMPUTE_WH RESUME IF SUSPENDED;\n",
        "USE WAREHOUSE COMPUTE_WH;\n",
        "\n",
        "GRANT USAGE ON WAREHOUSE COMPUTE_WH TO ROLE compliance_officer;\n",
        "GRANT USAGE ON WAREHOUSE COMPUTE_WH TO ROLE data_analyst;\n",
        "\n",
        "GRANT USAGE ON DATABASE PATELCO_DEMO                 TO ROLE compliance_officer;\n",
        "GRANT USAGE ON DATABASE PATELCO_DEMO                 TO ROLE data_analyst;\n",
        "GRANT USAGE ON SCHEMA PATELCO_DEMO.CREDIT_UNION_DATA TO ROLE compliance_officer;\n",
        "GRANT USAGE ON SCHEMA PATELCO_DEMO.CREDIT_UNION_DATA TO ROLE data_analyst;\n",
        "\n",
        "GRANT SELECT ON ALL TABLES IN SCHEMA PATELCO_DEMO.CREDIT_UNION_DATA TO ROLE compliance_officer;\n",
        "GRANT SELECT ON ALL TABLES IN SCHEMA PATELCO_DEMO.CREDIT_UNION_DATA TO ROLE data_analyst;\n"
      ]
    },
    {
      "cell_type": "code",
      "execution_count": null,
      "metadata": {
        "vscode": {
          "languageId": "sql"
        }
      },
      "outputs": [],
      "source": [
        "-- Assign roles to current user (SECURITYADMIN)\n",
        "USE ROLE securityadmin;\n",
        "-- No warehouse needed for role grants\n",
        "\n",
        "SET my_user = CURRENT_USER();\n",
        "GRANT ROLE compliance_officer TO USER IDENTIFIER($my_user);\n",
        "GRANT ROLE data_analyst       TO USER IDENTIFIER($my_user);\n",
        "\n",
        "-- Quick test (COMPLIANCE_OFFICER)\n",
        "USE ROLE compliance_officer;\n",
        "USE DATABASE PATELCO_DEMO; USE SCHEMA CREDIT_UNION_DATA; USE WAREHOUSE COMPUTE_WH;\n",
        "SELECT TOP 5 member_id, first_name, last_name, state FROM members;\n"
      ]
    },
    {
      "cell_type": "code",
      "execution_count": null,
      "metadata": {
        "vscode": {
          "languageId": "sql"
        }
      },
      "outputs": [],
      "source": [
        "/*  2. Tag-Based Classification with Manual Tagging  */\n",
        "\n",
        "USE ROLE accountadmin;\n",
        "\n",
        "-- Create governance schema and PII tag\n",
        "CREATE SCHEMA IF NOT EXISTS governance;\n",
        "CREATE OR REPLACE TAG governance.pii COMMENT = 'Sensitive PII data requiring protection';\n",
        "\n",
        "-- Grant tag application privileges\n",
        "GRANT APPLY TAG ON ACCOUNT TO ROLE compliance_officer;\n",
        "GRANT ALL ON SCHEMA governance TO ROLE compliance_officer;\n",
        "\n",
        "-- Switch to compliance officer to apply tags\n",
        "USE ROLE compliance_officer;\n",
        "\n",
        "ALTER TABLE members MODIFY COLUMN first_name SET TAG governance.pii = 'sensitive';\n",
        "ALTER TABLE members MODIFY COLUMN last_name  SET TAG governance.pii = 'sensitive';\n",
        "ALTER TABLE members MODIFY COLUMN email      SET TAG governance.pii = 'sensitive';\n",
        "ALTER TABLE members MODIFY COLUMN phone      SET TAG governance.pii = 'sensitive';\n"
      ]
    },
    {
      "cell_type": "code",
      "execution_count": null,
      "metadata": {
        "vscode": {
          "languageId": "sql"
        }
      },
      "outputs": [],
      "source": [
        "/*  3. Column-level Security with Masking Policies  */\n",
        "\n",
        "USE ROLE accountadmin;\n",
        "\n",
        "-- Remove any existing masking policies (idempotent)\n",
        "ALTER TABLE members ALTER COLUMN first_name UNSET MASKING POLICY;\n",
        "ALTER TABLE members ALTER COLUMN last_name UNSET MASKING POLICY;\n",
        "ALTER TABLE members ALTER COLUMN email UNSET MASKING POLICY;\n",
        "ALTER TABLE members ALTER COLUMN phone UNSET MASKING POLICY;\n",
        "ALTER TABLE members ALTER COLUMN annual_income UNSET MASKING POLICY;\n",
        "ALTER TABLE members ALTER COLUMN credit_score UNSET MASKING POLICY;\n",
        "\n",
        "-- Create masking policies\n",
        "CREATE OR REPLACE MASKING POLICY governance.mask_string_pii AS (original_value STRING)\n",
        "RETURNS STRING ->\n",
        "  CASE WHEN CURRENT_ROLE() IN ('ACCOUNTADMIN', 'COMPLIANCE_OFFICER') THEN original_value ELSE '****MASKED****' END;\n",
        "\n",
        "CREATE OR REPLACE MASKING POLICY governance.mask_number_pii AS (original_value NUMBER)\n",
        "RETURNS NUMBER ->\n",
        "  CASE WHEN CURRENT_ROLE() IN ('ACCOUNTADMIN', 'COMPLIANCE_OFFICER') THEN original_value ELSE NULL END;\n",
        "\n",
        "-- Apply masking policies\n",
        "ALTER TABLE members ALTER COLUMN first_name    SET MASKING POLICY governance.mask_string_pii;\n",
        "ALTER TABLE members ALTER COLUMN last_name     SET MASKING POLICY governance.mask_string_pii;\n",
        "ALTER TABLE members ALTER COLUMN email         SET MASKING POLICY governance.mask_string_pii;\n",
        "ALTER TABLE members ALTER COLUMN phone         SET MASKING POLICY governance.mask_string_pii;\n",
        "ALTER TABLE members ALTER COLUMN annual_income SET MASKING POLICY governance.mask_number_pii;\n",
        "ALTER TABLE members ALTER COLUMN credit_score  SET MASKING POLICY governance.mask_number_pii;\n",
        "\n",
        "-- Action demo: masked vs unmasked\n",
        "USE ROLE COMPLIANCE_OFFICER; USE WAREHOUSE COMPUTE_WH;\n",
        "SELECT member_id, first_name, last_name, email, annual_income\n",
        "FROM members ORDER BY member_id LIMIT 5;  -- unmasked\n",
        "\n",
        "USE ROLE DATA_ANALYST; USE WAREHOUSE COMPUTE_WH;\n",
        "SELECT member_id, first_name, last_name, email, annual_income\n",
        "FROM members ORDER BY member_id LIMIT 5;  -- strings masked, numbers NULL\n"
      ]
    },
    {
      "cell_type": "code",
      "execution_count": null,
      "metadata": {
        "vscode": {
          "languageId": "sql"
        }
      },
      "outputs": [],
      "source": [
        "/*  4. Row Level Security with Row Access Policies  */\n",
        "\n",
        "USE ROLE accountadmin;\n",
        "USE DATABASE PATELCO_DEMO;\n",
        "USE SCHEMA credit_union_data;\n",
        "USE WAREHOUSE COMPUTE_WH;\n",
        "\n",
        "-- Remove existing policies\n",
        "ALTER TABLE members DROP ALL ROW ACCESS POLICIES;\n",
        "DROP ROW ACCESS POLICY IF EXISTS governance.city_access_policy;\n",
        "\n",
        "-- Create RLS policy with role and city check\n",
        "CREATE OR REPLACE ROW ACCESS POLICY governance.city_access_policy \n",
        "    AS (city STRING) \n",
        "    RETURNS BOOLEAN ->\n",
        "    CURRENT_ROLE() IN ('ACCOUNTADMIN', 'COMPLIANCE_OFFICER') OR\n",
        "    (CURRENT_ROLE() = 'DATA_ANALYST' AND city = 'San Francisco');\n",
        "\n",
        "-- Apply policy to members table\n",
        "ALTER TABLE members ADD ROW ACCESS POLICY governance.city_access_policy ON (city);\n"
      ]
    },
    {
      "cell_type": "code",
      "execution_count": null,
      "metadata": {
        "vscode": {
          "languageId": "sql"
        }
      },
      "outputs": [],
      "source": [
        "-- Test 1: COMPLIANCE_OFFICER (unmasked PII, all cities)\n",
        "USE ROLE COMPLIANCE_OFFICER;\n",
        "USE DATABASE PATELCO_DEMO; USE SCHEMA CREDIT_UNION_DATA; USE WAREHOUSE COMPUTE_WH;\n",
        "\n",
        "SELECT \n",
        "    'COMPLIANCE_OFFICER_FULL_ACCESS' as test_case,\n",
        "    member_id,\n",
        "    first_name,    -- Should show real names\n",
        "    last_name,     -- Should show real names\n",
        "    city,          -- Should show all cities\n",
        "    state,         -- All CA\n",
        "    annual_income  -- Should show real income\n",
        "FROM members \n",
        "ORDER BY city, member_id\n",
        "LIMIT 10;\n"
      ]
    },
    {
      "cell_type": "code",
      "execution_count": null,
      "metadata": {
        "vscode": {
          "languageId": "sql"
        }
      },
      "outputs": [],
      "source": [
        "-- Test 2: DATA_ANALYST (masked PII, San Francisco only)\n",
        "USE ROLE DATA_ANALYST;\n",
        "USE DATABASE PATELCO_DEMO; USE SCHEMA CREDIT_UNION_DATA; USE WAREHOUSE COMPUTE_WH;\n",
        "\n",
        "SELECT \n",
        "    'DATA_ANALYST_RESTRICTED_ACCESS' as test_case,\n",
        "    member_id,\n",
        "    first_name,    -- Should be ****MASKED****\n",
        "    last_name,     -- Should be ****MASKED****\n",
        "    city,          -- Should only show San Francisco\n",
        "    state,         -- All CA\n",
        "    annual_income  -- Should be NULL\n",
        "FROM members \n",
        "ORDER BY city, member_id\n",
        "LIMIT 10;\n"
      ]
    },
    {
      "cell_type": "code",
      "execution_count": null,
      "metadata": {
        "vscode": {
          "languageId": "sql"
        }
      },
      "outputs": [],
      "source": [
        "-- Test 3: Switch DATA_ANALYST to Oakland (masked PII, Oakland only)\n",
        "USE ROLE accountadmin;\n",
        "USE DATABASE PATELCO_DEMO; USE SCHEMA CREDIT_UNION_DATA; USE WAREHOUSE COMPUTE_WH;\n",
        "\n",
        "-- Flip to Oakland\n",
        "UPDATE governance.row_policy_map \n",
        "SET city_permission = 'Oakland' \n",
        "WHERE UPPER(role) = 'DATA_ANALYST';\n",
        "\n",
        "-- Test as DATA_ANALYST (should see only Oakland, masked)\n",
        "USE ROLE DATA_ANALYST;\n",
        "SELECT \n",
        "    'DATA_ANALYST_OAKLAND_ONLY' as test_case,\n",
        "    member_id,\n",
        "    first_name,    -- Should be ****MASKED****\n",
        "    last_name,     -- Should be ****MASKED****\n",
        "    city,          -- Should only show Oakland\n",
        "    state,         -- All CA\n",
        "    annual_income  -- Should be NULL\n",
        "FROM members \n",
        "ORDER BY city, member_id\n",
        "LIMIT 10;\n",
        "\n",
        "-- Revert to San Francisco\n",
        "USE ROLE accountadmin;\n",
        "UPDATE governance.row_policy_map \n",
        "SET city_permission = 'San Francisco' \n",
        "WHERE UPPER(role) = 'DATA_ANALYST';\n"
      ]
    },
    {
      "cell_type": "code",
      "execution_count": null,
      "metadata": {
        "vscode": {
          "languageId": "sql"
        }
      },
      "outputs": [],
      "source": [
        "/*  5. Data Quality Monitoring with DMFs  */\n",
        "\n",
        "USE ROLE accountadmin;\n",
        "USE DATABASE PATELCO_DEMO; USE SCHEMA CREDIT_UNION_DATA; USE WAREHOUSE COMPUTE_WH;\n",
        "\n",
        "-- Create schema for custom DMFs\n",
        "CREATE SCHEMA IF NOT EXISTS data_quality;\n",
        "\n",
        "-- Grant DMF execution privileges\n",
        "GRANT EXECUTE DATA METRIC FUNCTION ON ACCOUNT TO ROLE compliance_officer;\n",
        "GRANT CREATE DATA METRIC FUNCTION ON SCHEMA data_quality TO ROLE compliance_officer;\n",
        "GRANT USAGE ON SCHEMA data_quality TO ROLE compliance_officer;\n",
        "\n",
        "-- Custom DMF for email validation\n",
        "CREATE OR REPLACE DATA METRIC FUNCTION data_quality.email_validation(\n",
        "    input_data TABLE(email STRING)\n",
        ") RETURNS NUMBER AS\n",
        "$$\n",
        "SELECT COUNT(*) \n",
        "FROM input_data \n",
        "WHERE email NOT LIKE '%@%.%' AND email IS NOT NULL\n",
        "$$;\n",
        "\n",
        "-- Custom DMF for negative income detection\n",
        "CREATE OR REPLACE DATA METRIC FUNCTION data_quality.negative_income_count(\n",
        "    input_data TABLE(annual_income NUMBER)\n",
        ") RETURNS NUMBER AS\n",
        "$$\n",
        "SELECT COUNT(*) \n",
        "FROM input_data \n",
        "WHERE annual_income < 0\n",
        "$$;\n",
        "\n",
        "-- Custom DMF for income statistics\n",
        "CREATE OR REPLACE DATA METRIC FUNCTION data_quality.income_stats(\n",
        "    input_data TABLE(annual_income NUMBER)\n",
        ") RETURNS OBJECT AS\n",
        "$$\n",
        "SELECT OBJECT_CONSTRUCT(\n",
        "    'min', MIN(annual_income),\n",
        "    'max', MAX(annual_income),\n",
        "    'avg', ROUND(AVG(annual_income))\n",
        ")\n",
        "FROM input_data\n",
        "$$;\n",
        "\n",
        "-- Set DMF schedule on members table\n",
        "ALTER TABLE members SET DATA_METRIC_SCHEDULE = 'TRIGGER_ON_CHANGES';\n",
        "\n",
        "-- Apply system DMFs for completeness\n",
        "ALTER TABLE members ADD DATA METRIC FUNCTION SNOWFLAKE.CORE.NULL_PERCENT\n",
        "    ON (first_name, last_name, email, annual_income);\n",
        "\n",
        "-- Apply system DMF for duplicates\n",
        "ALTER TABLE members ADD DATA METRIC FUNCTION SNOWFLAKE.CORE.DUPLICATE_COUNT\n",
        "    ON (member_id);\n",
        "\n",
        "-- Apply custom DMFs for data validation\n",
        "ALTER TABLE members ADD DATA METRIC FUNCTION data_quality.email_validation\n",
        "    ON (email);\n",
        "ALTER TABLE members ADD DATA METRIC FUNCTION data_quality.negative_income_count\n",
        "    ON (annual_income);\n",
        "ALTER TABLE members ADD DATA METRIC FUNCTION data_quality.income_stats\n",
        "    ON (annual_income);\n",
        "\n",
        "-- Switch to compliance officer to view metrics\n",
        "USE ROLE compliance_officer;\n",
        "\n",
        "-- View current metrics\n",
        "WITH dmf_results AS (\n",
        "  SELECT \n",
        "    -- System DMFs for completeness\n",
        "    ROUND(100 - SNOWFLAKE.CORE.NULL_PERCENT(SELECT first_name FROM members), 1) as first_name_complete_pct,\n",
        "    ROUND(100 - SNOWFLAKE.CORE.NULL_PERCENT(SELECT last_name FROM members), 1) as last_name_complete_pct,\n",
        "    ROUND(100 - SNOWFLAKE.CORE.NULL_PERCENT(SELECT email FROM members), 1) as email_complete_pct,\n",
        "    ROUND(100 - SNOWFLAKE.CORE.NULL_PERCENT(SELECT annual_income FROM members), 1) as income_complete_pct,\n",
        "    \n",
        "    -- System DMF for duplicates\n",
        "    SNOWFLAKE.CORE.DUPLICATE_COUNT(SELECT member_id FROM members) as duplicate_count,\n",
        "    \n",
        "    -- Custom DMFs for validation\n",
        "    data_quality.email_validation(SELECT email FROM members) as invalid_emails,\n",
        "    data_quality.negative_income_count(SELECT annual_income FROM members) as negative_incomes,\n",
        "    data_quality.income_stats(SELECT annual_income FROM members) as income_stats,\n",
        "    \n",
        "    -- Basic counts\n",
        "    (SELECT COUNT(*) FROM members) as total_members,\n",
        "    (SELECT COUNT(DISTINCT member_id) FROM members) as unique_members\n",
        ")\n",
        "SELECT\n",
        "    '📊 MEMBER COUNT' as metric,\n",
        "    total_members || ' total, ' || \n",
        "    unique_members || ' unique (' ||\n",
        "    CASE WHEN duplicate_count = 0 THEN '✅' ELSE '❌' END || \n",
        "    ' duplicates: ' || duplicate_count || ')' as value\n",
        "FROM dmf_results\n",
        "UNION ALL\n",
        "SELECT \n",
        "    '📋 COMPLETENESS',\n",
        "    first_name_complete_pct || '% first names, ' ||\n",
        "    last_name_complete_pct || '% last names, ' ||\n",
        "    email_complete_pct || '% emails, ' ||\n",
        "    income_complete_pct || '% incomes' \n",
        "FROM dmf_results\n",
        "UNION ALL\n",
        "SELECT\n",
        "    '⚠️ DATA ISSUES',\n",
        "    invalid_emails || ' invalid emails, ' ||\n",
        "    negative_incomes || ' negative incomes'\n",
        "FROM dmf_results\n",
        "UNION ALL\n",
        "SELECT\n",
        "    '💰 INCOME RANGE',\n",
        "    '$' || income_stats:min || ' to $' || income_stats:max || \n",
        "    ' (avg: $' || income_stats:avg || ')'\n",
        "FROM dmf_results\n",
        "ORDER BY 1;\n"
      ]
    },
    {
      "cell_type": "markdown",
      "metadata": {},
      "source": [
        "### 6. Trust Center (Monitoring)\n",
        "Open Monitoring → Trust Center in Snowsight to enable scanner packages (CIS Benchmarks, Threat Intelligence). This demo keeps Trust Center steps manual to stay minimal.\n",
        "\n",
        "---\n",
        "Run cells 1→6 in order. Then run the “Action demo” queries in sections 3 and 4 to show masking and RLS with `COMPLIANCE_OFFICER` vs `DATA_ANALYST`. Cortex services will automatically honor these policies.\n"
      ]
    },
    {
      "cell_type": "code",
      "execution_count": null,
      "metadata": {
        "vscode": {
          "languageId": "plaintext"
        }
      },
      "outputs": [],
      "source": []
    }
  ],
  "metadata": {
    "language_info": {
      "name": "python"
    }
  },
  "nbformat": 4,
  "nbformat_minor": 2
}
