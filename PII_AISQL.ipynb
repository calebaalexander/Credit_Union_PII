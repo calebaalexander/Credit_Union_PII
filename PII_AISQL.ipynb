{
 "cells": [
  {
   "cell_type": "markdown",
   "metadata": {},
   "source": [
    "# Snowflake Cortex AISQL Demo with Governance\n",
    "\n",
    "This notebook demonstrates how to use Snowflake's Cortex AISQL functions with proper governance controls. We'll show:\n",
    "\n",
    "1. Setting up proper model access controls\n",
    "2. Using AI_COMPLETE with role-based governance\n",
    "3. Extracting insights with AI_EXTRACT\n",
    "4. Sentiment analysis with AI_SENTIMENT\n",
    "5. Classification with AI_CLASSIFY\n",
    "6. Filtering with AI_FILTER\n",
    "7. Aggregation with AI_AGG and AI_SUMMARIZE_AGG\n",
    "\n",
    "All examples respect masking policies and row-level security.\n"
   ]
  },
  {
   "cell_type": "code",
   "execution_count": null,
   "metadata": {
    "vscode": {
     "languageId": "sql"
    }
   },
   "outputs": [],
   "source": [
    "-- Initial setup\n",
    "USE ROLE accountadmin;\n",
    "USE DATABASE PATELCO_DEMO;\n",
    "USE SCHEMA CREDIT_UNION_DATA;\n",
    "USE WAREHOUSE COMPUTE_WH;\n",
    "\n",
    "-- Set up model access controls\n",
    "ALTER ACCOUNT SET CORTEX_MODELS_ALLOWLIST = 'All';\n",
    "CALL SNOWFLAKE.MODELS.CORTEX_BASE_MODELS_REFRESH();\n",
    "\n",
    "-- Grant model access to roles\n",
    "GRANT APPLICATION ROLE SNOWFLAKE.\"CORTEX-MODEL-ROLE-ALL\" TO ROLE compliance_officer;\n",
    "GRANT APPLICATION ROLE SNOWFLAKE.\"CORTEX-MODEL-ROLE-CLAUDE-3-5-SONNET\" TO ROLE data_analyst;\n",
    "\n",
    "-- Grant Cortex access\n",
    "GRANT DATABASE ROLE SNOWFLAKE.CORTEX_USER TO ROLE compliance_officer;\n",
    "GRANT DATABASE ROLE SNOWFLAKE.CORTEX_USER TO ROLE data_analyst;\n"
   ]
  },
  {
   "cell_type": "code",
   "execution_count": null,
   "metadata": {
    "vscode": {
     "languageId": "sql"
    }
   },
   "outputs": [],
   "source": [
    "-- Test 1: COMPLIANCE_OFFICER (full access)\n",
    "USE ROLE compliance_officer;\n",
    "USE DATABASE PATELCO_DEMO;\n",
    "USE SCHEMA CREDIT_UNION_DATA;\n",
    "USE WAREHOUSE COMPUTE_WH;\n",
    "\n",
    "-- AI_COMPLETE: Generate insights about members\n",
    "SELECT \n",
    "    member_id,\n",
    "    first_name,\n",
    "    last_name,\n",
    "    annual_income,\n",
    "    AI_COMPLETE('SNOWFLAKE.MODELS.\"CLAUDE-3-5-SONNET\"',\n",
    "        'Analyze this member\\'s financial profile: ' ||\n",
    "        'Name: ' || first_name || ' ' || last_name ||\n",
    "        ', Income: $' || annual_income\n",
    "    ) as financial_analysis\n",
    "FROM members\n",
    "LIMIT 5;\n"
   ]
  },
  {
   "cell_type": "code",
   "execution_count": null,
   "metadata": {
    "vscode": {
     "languageId": "sql"
    }
   },
   "outputs": [],
   "source": [
    "-- Test 2: DATA_ANALYST (restricted access)\n",
    "USE ROLE data_analyst;\n",
    "USE DATABASE PATELCO_DEMO;\n",
    "USE SCHEMA CREDIT_UNION_DATA;\n",
    "USE WAREHOUSE COMPUTE_WH;\n",
    "\n",
    "-- AI_COMPLETE: Generate insights about members (with masking)\n",
    "SELECT \n",
    "    member_id,\n",
    "    first_name,    -- Should be ****MASKED****\n",
    "    last_name,     -- Should be ****MASKED****\n",
    "    annual_income, -- Should be NULL\n",
    "    AI_COMPLETE('SNOWFLAKE.MODELS.\"CLAUDE-3-5-SONNET\"',\n",
    "        'Analyze this member\\'s profile (respecting privacy): ' ||\n",
    "        'Name: ' || first_name || ' ' || last_name ||\n",
    "        ', Income: $' || annual_income\n",
    "    ) as financial_analysis\n",
    "FROM members\n",
    "WHERE city = 'San Francisco' -- RLS will filter to SF only\n",
    "LIMIT 5;\n"
   ]
  },
  {
   "cell_type": "code",
   "execution_count": null,
   "metadata": {
    "vscode": {
     "languageId": "sql"
    }
   },
   "outputs": [],
   "source": [
    "-- Test 3: Sentiment Analysis on Customer Feedback (COMPLIANCE_OFFICER)\n",
    "USE ROLE compliance_officer;\n",
    "USE DATABASE PATELCO_DEMO;\n",
    "USE SCHEMA CREDIT_UNION_DATA;\n",
    "USE WAREHOUSE COMPUTE_WH;\n",
    "\n",
    "-- Join members with their feedback and analyze sentiment\n",
    "SELECT \n",
    "    f.member_id,\n",
    "    m.first_name,\n",
    "    m.last_name,\n",
    "    LEFT(f.feedback_text, 100) || '...' as feedback_preview,\n",
    "    SNOWFLAKE.CORTEX.SENTIMENT(f.feedback_text) as sentiment_score,\n",
    "    CASE \n",
    "        WHEN SNOWFLAKE.CORTEX.SENTIMENT(f.feedback_text) >= 0.5 THEN 'Positive'\n",
    "        WHEN SNOWFLAKE.CORTEX.SENTIMENT(f.feedback_text) <= -0.5 THEN 'Negative'\n",
    "        ELSE 'Neutral'\n",
    "    END as sentiment_category,\n",
    "    SNOWFLAKE.CORTEX.EXTRACT_ANSWER(\n",
    "        f.feedback_text,\n",
    "        'What specific issues or concerns are mentioned in this feedback?'\n",
    "    ) as key_issues\n",
    "FROM member_feedback f\n",
    "JOIN members m ON f.member_id = m.member_id\n",
    "WHERE f.feedback_text IS NOT NULL\n",
    "  AND LENGTH(f.feedback_text) > 30\n",
    "LIMIT 5;\n"
   ]
  },
  {
   "cell_type": "code",
   "execution_count": null,
   "metadata": {
    "vscode": {
     "languageId": "sql"
    }
   },
   "outputs": [],
   "source": [
    "-- Test 4: Feedback Classification Analysis (DATA_ANALYST)\n",
    "USE ROLE data_analyst;\n",
    "USE DATABASE PATELCO_DEMO;\n",
    "USE SCHEMA CREDIT_UNION_DATA;\n",
    "USE WAREHOUSE COMPUTE_WH;\n",
    "\n",
    "-- Analyze feedback categories and distribution\n",
    "WITH classified_feedback AS (\n",
    "    SELECT \n",
    "        f.member_id,\n",
    "        m.city,\n",
    "        f.feedback_text,\n",
    "        AI_CLASSIFY(\n",
    "            f.feedback_text,\n",
    "            ['Product Features', 'Customer Service', 'Online Banking', 'Fees and Charges']\n",
    "        ):labels[0] as feedback_category\n",
    "    FROM member_feedback f\n",
    "    JOIN members m ON f.member_id = m.member_id\n",
    "    WHERE f.feedback_text IS NOT NULL\n",
    "      AND LENGTH(f.feedback_text) > 30\n",
    "      AND m.city = 'San Francisco' -- RLS will filter to SF only\n",
    ")\n",
    "SELECT \n",
    "    feedback_category,\n",
    "    COUNT(*) as feedback_count,\n",
    "    ROUND(COUNT(*) * 100.0 / SUM(COUNT(*)) OVER (), 1) as percentage,\n",
    "    -- Get key themes for each category\n",
    "    AI_SUMMARIZE_AGG(feedback_text) as category_summary\n",
    "FROM classified_feedback\n",
    "GROUP BY feedback_category\n",
    "ORDER BY feedback_count DESC;\n"
   ]
  },
  {
   "cell_type": "code",
   "execution_count": null,
   "metadata": {
    "vscode": {
     "languageId": "sql"
    }
   },
   "outputs": [],
   "source": [
    "-- Test 5: Feedback Summary Analysis (COMPLIANCE_OFFICER)\n",
    "USE ROLE compliance_officer;\n",
    "USE DATABASE PATELCO_DEMO;\n",
    "USE SCHEMA CREDIT_UNION_DATA;\n",
    "USE WAREHOUSE COMPUTE_WH;\n",
    "\n",
    "-- Analyze feedback sentiment and themes by branch\n",
    "SELECT \n",
    "    b.branch_name,\n",
    "    COUNT(*) as feedback_count,\n",
    "    -- Sentiment distribution\n",
    "    ROUND(AVG(CASE WHEN SNOWFLAKE.CORTEX.SENTIMENT(f.feedback_text) >= 0.5 THEN SNOWFLAKE.CORTEX.SENTIMENT(f.feedback_text) END), 2) as avg_positive_score,\n",
    "    ROUND(AVG(CASE WHEN SNOWFLAKE.CORTEX.SENTIMENT(f.feedback_text) BETWEEN -0.5 AND 0.5 THEN SNOWFLAKE.CORTEX.SENTIMENT(f.feedback_text) END), 2) as avg_neutral_score,\n",
    "    ROUND(AVG(CASE WHEN SNOWFLAKE.CORTEX.SENTIMENT(f.feedback_text) <= -0.5 THEN SNOWFLAKE.CORTEX.SENTIMENT(f.feedback_text) END), 2) as avg_negative_score,\n",
    "    -- Overall summary\n",
    "    AI_SUMMARIZE_AGG(f.feedback_text) as feedback_summary\n",
    "FROM member_feedback f\n",
    "JOIN members m ON f.member_id = m.member_id\n",
    "JOIN branches b ON m.preferred_branch_id = b.branch_id\n",
    "WHERE f.feedback_text IS NOT NULL\n",
    "  AND LENGTH(f.feedback_text) > 30\n",
    "GROUP BY b.branch_name\n",
    "ORDER BY feedback_count DESC;\n"
   ]
  },
  {
   "cell_type": "markdown",
   "metadata": {},
   "source": [
    "### Key Points\n",
    "\n",
    "1. All AISQL functions respect existing governance:\n",
    "   - Column-level masking policies (PII data is masked for `data_analyst`)\n",
    "   - Row-level security (only San Francisco data for `data_analyst`)\n",
    "\n",
    "2. Model access is controlled through:\n",
    "   - Account-level allowlist\n",
    "   - Role-based access control (RBAC)\n",
    "\n",
    "3. Each role has appropriate access:\n",
    "   - `compliance_officer`: Full data access, all models\n",
    "   - `data_analyst`: Restricted data access, limited models\n",
    "\n",
    "4. AI functions maintain data privacy:\n",
    "   - AI_COMPLETE sees masked data for restricted roles\n",
    "   - Aggregations only work on accessible data\n",
    "   - Extractions and classifications respect PII controls\n"
   ]
  },
  {
   "cell_type": "markdown",
   "id": "ce110000-1111-2222-3333-ffffff000000",
   "metadata": {
    "collapsed": false,
    "name": "cell1"
   },
   "source": [
    "# Credit Union - AI-Powered SQL Analytics\n",
    "\n",
    "This notebook demonstrates Snowflake's AI-powered SQL capabilities for credit union analytics including:\n",
    "- Member demographics and segmentation analysis\n",
    "- Account portfolio performance metrics\n",
    "- Loan risk assessment and profitability analysis\n",
    "- Transaction pattern analysis and fraud detection\n",
    "- Branch performance and efficiency metrics\n",
    "- Member satisfaction and feedback analysis\n",
    "\n",
    "**Prerequisites:** Complete `01_Patelco_Setup_DataLoad.ipynb` first.\n"
   ]
  },
  {
   "cell_type": "markdown",
   "id": "ce110000-1111-2222-3333-ffffff000001",
   "metadata": {
    "name": "cell2"
   },
   "source": [
    "## Setup Environment\n"
   ]
  },
  {
   "cell_type": "code",
   "execution_count": null,
   "id": "835ecc2b-3d55-4d8e-be6d-38edbe0228de",
   "metadata": {
    "language": "sql",
    "name": "cell18"
   },
   "outputs": [],
   "source": [
    "USE ROLE ACCOUNTADMIN;\n",
    "GRANT DATABASE ROLE SNOWFLAKE.CORTEX_USER TO ROLE ACCOUNTADMIN;"
   ]
  },
  {
   "cell_type": "code",
   "execution_count": null,
   "id": "ce110000-1111-2222-3333-ffffff000002",
   "metadata": {
    "language": "sql",
    "name": "cell3",
    "vscode": {
     "languageId": "sql"
    }
   },
   "outputs": [],
   "source": [
    "-- Set context for Patelco Credit Union demo\n",
    "USE DATABASE PATELCO_DEMO;\n",
    "USE SCHEMA CREDIT_UNION_DATA;\n",
    "USE WAREHOUSE COMPUTE_WH;\n",
    "\n",
    "-- Environment verification for AI-powered analytics\n",
    "SELECT \n",
    "    'PATELCO CREDIT UNION AI ANALYTICS SETUP' as demo_name,\n",
    "    CURRENT_DATABASE() as database_context,\n",
    "    CURRENT_SCHEMA() as schema_context,\n",
    "    CURRENT_WAREHOUSE() as warehouse_context,\n",
    "    CURRENT_TIMESTAMP() as session_start_time,\n",
    "    'AI functions will be attempted with fallback analytics if unavailable' as cortex_note;"
   ]
  },
  {
   "cell_type": "markdown",
   "id": "ce110000-1111-2222-3333-ffffff000003",
   "metadata": {
    "name": "cell4"
   },
   "source": [
    "## 1. Member Demographics & Segmentation Analysis\n"
   ]
  },
  {
   "cell_type": "code",
   "execution_count": null,
   "id": "ce110000-1111-2222-3333-ffffff000004",
   "metadata": {
    "language": "sql",
    "name": "cell5",
    "vscode": {
     "languageId": "sql"
    }
   },
   "outputs": [],
   "source": [
    "-- Member distribution by city and membership type\n",
    "SELECT \n",
    "    city,\n",
    "    membership_type,\n",
    "    COUNT(*) as member_count,\n",
    "    AVG(annual_income) as avg_income,\n",
    "    AVG(credit_score) as avg_credit_score,\n",
    "    ROUND(AVG(DATEDIFF('year', date_joined, CURRENT_DATE())), 1) as avg_years_member\n",
    "FROM members \n",
    "WHERE member_status = 'active'\n",
    "GROUP BY city, membership_type\n",
    "ORDER BY member_count DESC;\n",
    "\n",
    "-- Member segmentation by income and credit score\n",
    "SELECT \n",
    "    CASE \n",
    "        WHEN annual_income < 50000 THEN 'Low Income'\n",
    "        WHEN annual_income < 100000 THEN 'Middle Income'\n",
    "        ELSE 'High Income'\n",
    "    END as income_segment,\n",
    "    CASE \n",
    "        WHEN credit_score < 650 THEN 'Fair Credit'\n",
    "        WHEN credit_score < 750 THEN 'Good Credit'\n",
    "        ELSE 'Excellent Credit'\n",
    "    END as credit_segment,\n",
    "    COUNT(*) as member_count,\n",
    "    AVG(annual_income) as avg_income,\n",
    "    AVG(credit_score) as avg_credit_score\n",
    "FROM members \n",
    "WHERE member_status = 'active'\n",
    "GROUP BY income_segment, credit_segment\n",
    "ORDER BY member_count DESC;\n"
   ]
  },
  {
   "cell_type": "markdown",
   "id": "ce110000-1111-2222-3333-ffffff000005",
   "metadata": {
    "name": "cell6"
   },
   "source": [
    "## 2. Account Portfolio Analysis with AI Insights\n"
   ]
  },
  {
   "cell_type": "code",
   "execution_count": null,
   "id": "ce110000-1111-2222-3333-ffffff000006",
   "metadata": {
    "language": "sql",
    "name": "AI_Complete1",
    "vscode": {
     "languageId": "sql"
    }
   },
   "outputs": [],
   "source": [
    "-- Account portfolio summary with AI-generated insights\n",
    "WITH account_summary AS (\n",
    "    SELECT \n",
    "        account_type,\n",
    "        COUNT(*) as account_count,\n",
    "        SUM(balance) as total_balance,\n",
    "        AVG(balance) as avg_balance,\n",
    "        AVG(interest_rate) as avg_interest_rate,\n",
    "        COUNT(CASE WHEN overdraft_protection THEN 1 END) as accounts_with_overdraft\n",
    "    FROM accounts \n",
    "    WHERE account_status = 'active'\n",
    "    GROUP BY account_type\n",
    ")\n",
    "SELECT \n",
    "    account_type,\n",
    "    account_count,\n",
    "    total_balance,\n",
    "    avg_balance,\n",
    "    avg_interest_rate,\n",
    "    accounts_with_overdraft,\n",
    "    ROUND((accounts_with_overdraft::FLOAT / account_count) * 100, 1) as overdraft_protection_rate,\n",
    "    -- AI-generated business insight\n",
    "    SNOWFLAKE.CORTEX.COMPLETE(\n",
    "        'llama3-8b',\n",
    "        'Analyze this credit union account data and provide a business insight: ' ||\n",
    "        'Account Type: ' || account_type || \n",
    "        ', Total Accounts: ' || account_count || \n",
    "        ', Average Balance: $' || ROUND(avg_balance, 2) || \n",
    "        ', Average Interest Rate: ' || ROUND(avg_interest_rate * 100, 2) || '%' ||\n",
    "        '. Provide a 2-sentence business recommendation.'\n",
    "    ) as ai_insight\n",
    "FROM account_summary\n",
    "ORDER BY total_balance DESC;\n"
   ]
  },
  {
   "cell_type": "markdown",
   "id": "ce110000-1111-2222-3333-ffffff000007",
   "metadata": {
    "name": "cell8"
   },
   "source": [
    "## 3. Loan Portfolio Risk Assessment\n"
   ]
  },
  {
   "cell_type": "code",
   "execution_count": null,
   "id": "ce110000-1111-2222-3333-ffffff000008",
   "metadata": {
    "language": "sql",
    "name": "AI_Complete2",
    "vscode": {
     "languageId": "sql"
    }
   },
   "outputs": [],
   "source": [
    "-- Loan portfolio analysis with risk scoring\n",
    "SELECT \n",
    "    l.loan_type,\n",
    "    COUNT(*) as loan_count,\n",
    "    SUM(l.loan_amount) as total_origination,\n",
    "    SUM(l.outstanding_balance) as total_outstanding,\n",
    "    AVG(l.interest_rate) as avg_interest_rate,\n",
    "    AVG(m.credit_score) as avg_borrower_credit_score,\n",
    "    ROUND(AVG(l.outstanding_balance / l.loan_amount * 100), 1) as avg_balance_ratio,\n",
    "    -- AI risk assessment (with error handling)\n",
    "    TRY_CAST(\n",
    "        SNOWFLAKE.CORTEX.COMPLETE(\n",
    "            'llama3-8b',\n",
    "            'Assess the risk level for this credit union loan portfolio: ' ||\n",
    "            'Loan Type: ' || l.loan_type || \n",
    "            ', Average Borrower Credit Score: ' || ROUND(AVG(m.credit_score)) ||\n",
    "            ', Average Interest Rate: ' || ROUND(AVG(l.interest_rate), 2) || '%' ||\n",
    "            ', Average Outstanding Balance Ratio: ' || ROUND(AVG(l.outstanding_balance / l.loan_amount * 100), 1) || '%' ||\n",
    "            '. Provide risk level (Low/Medium/High) and brief explanation.'\n",
    "        ) AS STRING\n",
    "    ) as ai_risk_assessment,\n",
    "    -- Fallback risk assessment if AI not available\n",
    "    CASE \n",
    "        WHEN AVG(m.credit_score) >= 740 AND AVG(l.interest_rate) <= 4.0 THEN 'LOW RISK: Strong credit scores and competitive rates'\n",
    "        WHEN AVG(m.credit_score) >= 680 AND AVG(l.interest_rate) <= 6.0 THEN 'MEDIUM RISK: Good credit profiles with moderate rates'\n",
    "        ELSE 'HIGH RISK: Lower credit scores or higher rates - monitor closely'\n",
    "    END as fallback_risk_assessment\n",
    "FROM loans l\n",
    "JOIN members m ON l.member_id = m.member_id\n",
    "WHERE l.loan_status = 'current'\n",
    "GROUP BY l.loan_type\n",
    "ORDER BY total_outstanding DESC;"
   ]
  },
  {
   "cell_type": "markdown",
   "id": "ce110000-1111-2222-3333-ffffff000009",
   "metadata": {
    "name": "cell10"
   },
   "source": [
    "## 4. Transaction Pattern Analysis & Fraud Detection\n"
   ]
  },
  {
   "cell_type": "code",
   "execution_count": null,
   "id": "ce110000-1111-2222-3333-ffffff000010",
   "metadata": {
    "language": "sql",
    "name": "cell11",
    "vscode": {
     "languageId": "sql"
    }
   },
   "outputs": [],
   "source": [
    "-- Transaction analysis by merchant category with spending insights\n",
    "SELECT \n",
    "    merchant_category,\n",
    "    COUNT(*) as transaction_count,\n",
    "    SUM(ABS(amount)) as total_spending,\n",
    "    AVG(ABS(amount)) as avg_transaction_amount,\n",
    "    COUNT(DISTINCT account_id) as unique_accounts,\n",
    "    -- AI spending pattern analysis\n",
    "    SNOWFLAKE.CORTEX.COMPLETE(\n",
    "        'llama3-8b',\n",
    "        'Analyze this credit union member spending pattern: ' ||\n",
    "        'Category: ' || merchant_category || \n",
    "        ', Total Transactions: ' || COUNT(*) ||\n",
    "        ', Average Amount: $' || ROUND(AVG(ABS(amount)), 2) ||\n",
    "        ', Unique Members: ' || COUNT(DISTINCT account_id) ||\n",
    "        '. Provide insights about member behavior and potential opportunities.'\n",
    "    ) as spending_insights\n",
    "FROM transactions \n",
    "WHERE transaction_type = 'debit' \n",
    "  AND merchant_category IS NOT NULL\n",
    "GROUP BY merchant_category\n",
    "ORDER BY total_spending DESC\n",
    "LIMIT 10;\n"
   ]
  },
  {
   "cell_type": "markdown",
   "id": "ce110000-1111-2222-3333-ffffff000011",
   "metadata": {
    "name": "cell12"
   },
   "source": [
    "## 5. Member Feedback Sentiment Analysis\n"
   ]
  },
  {
   "cell_type": "code",
   "execution_count": null,
   "id": "ce110000-1111-2222-3333-ffffff000012",
   "metadata": {
    "language": "sql",
    "name": "cell13",
    "vscode": {
     "languageId": "sql"
    }
   },
   "outputs": [],
   "source": [
    "-- Sentiment analysis of member feedback using Cortex AI (with fallback)\n",
    "SELECT \n",
    "    feedback_id,\n",
    "    category,\n",
    "    rating,\n",
    "    subject,\n",
    "    LEFT(feedback_text, 100) || '...' as feedback_preview,\n",
    "    -- AI Sentiment analysis (with error handling)\n",
    "    TRY_CAST(SNOWFLAKE.CORTEX.SENTIMENT(feedback_text) AS FLOAT) as ai_sentiment_score,\n",
    "    CASE \n",
    "        WHEN TRY_CAST(SNOWFLAKE.CORTEX.SENTIMENT(feedback_text) AS FLOAT) > 0.1 THEN 'Positive'\n",
    "        WHEN TRY_CAST(SNOWFLAKE.CORTEX.SENTIMENT(feedback_text) AS FLOAT) < -0.1 THEN 'Negative'\n",
    "        WHEN TRY_CAST(SNOWFLAKE.CORTEX.SENTIMENT(feedback_text) AS FLOAT) IS NOT NULL THEN 'Neutral'\n",
    "        ELSE NULL\n",
    "    END as ai_sentiment_category,\n",
    "    -- Fallback sentiment analysis based on rating and keywords\n",
    "    CASE \n",
    "        WHEN rating >= 4 THEN 'Positive'\n",
    "        WHEN rating <= 2 THEN 'Negative'\n",
    "        WHEN feedback_text ILIKE '%excellent%' OR feedback_text ILIKE '%great%' OR feedback_text ILIKE '%love%' THEN 'Positive'\n",
    "        WHEN feedback_text ILIKE '%terrible%' OR feedback_text ILIKE '%awful%' OR feedback_text ILIKE '%hate%' THEN 'Negative'\n",
    "        ELSE 'Neutral'\n",
    "    END as fallback_sentiment,\n",
    "    -- AI key themes extraction (with error handling)\n",
    "    TRY_CAST(\n",
    "        SNOWFLAKE.CORTEX.COMPLETE(\n",
    "            'llama3-8b',\n",
    "            'Extract the main themes and concerns from this credit union member feedback: \"' || \n",
    "            feedback_text || '\" Provide 2-3 key themes in bullet points.'\n",
    "        ) AS STRING\n",
    "    ) as ai_key_themes,\n",
    "    -- Fallback theme analysis based on category and keywords\n",
    "    CASE \n",
    "        WHEN feedback_text ILIKE '%service%' THEN 'Customer Service Theme'\n",
    "        WHEN feedback_text ILIKE '%rate%' OR feedback_text ILIKE '%fee%' THEN 'Pricing/Rates Theme'\n",
    "        WHEN feedback_text ILIKE '%wait%' OR feedback_text ILIKE '%time%' THEN 'Wait Time Theme'\n",
    "        WHEN feedback_text ILIKE '%staff%' OR feedback_text ILIKE '%employee%' THEN 'Staff Theme'\n",
    "        ELSE 'General Feedback Theme'\n",
    "    END as fallback_themes,\n",
    "    resolution_status\n",
    "FROM member_feedback \n",
    "WHERE feedback_text IS NOT NULL\n",
    "ORDER BY feedback_date DESC\n",
    "LIMIT 10;"
   ]
  },
  {
   "cell_type": "markdown",
   "id": "ce110000-1111-2222-3333-ffffff000013",
   "metadata": {
    "name": "cell14"
   },
   "source": [
    "## 6. Branch Performance Analysis\n"
   ]
  },
  {
   "cell_type": "code",
   "execution_count": null,
   "id": "ce110000-1111-2222-3333-ffffff000014",
   "metadata": {
    "language": "sql",
    "name": "cell15",
    "vscode": {
     "languageId": "sql"
    }
   },
   "outputs": [],
   "source": [
    "-- Branch performance metrics with AI recommendations\n",
    "SELECT \n",
    "    b.branch_name,\n",
    "    b.city,\n",
    "    b.branch_type,\n",
    "    COUNT(DISTINCT a.account_id) as total_accounts,\n",
    "    SUM(a.balance) as total_deposits,\n",
    "    COUNT(DISTINCT l.loan_id) as total_loans,\n",
    "    SUM(l.outstanding_balance) as total_loan_balance,\n",
    "    AVG(mf.rating) as avg_member_satisfaction,\n",
    "    -- AI performance analysis\n",
    "    SNOWFLAKE.CORTEX.COMPLETE(\n",
    "        'llama3-8b',\n",
    "        'Analyze this credit union branch performance and provide recommendations: ' ||\n",
    "        'Branch: ' || b.branch_name || ' (' || b.branch_type || ')' ||\n",
    "        ', Total Accounts: ' || COUNT(DISTINCT a.account_id) ||\n",
    "        ', Total Deposits: $' || ROUND(SUM(a.balance), 0) ||\n",
    "        ', Total Loans: ' || COUNT(DISTINCT l.loan_id) ||\n",
    "        ', Member Satisfaction: ' || ROUND(AVG(mf.rating), 1) || '/5' ||\n",
    "        '. Provide 2-3 specific recommendations for improvement.'\n",
    "    ) as performance_recommendations\n",
    "FROM branches b\n",
    "LEFT JOIN members m ON m.preferred_branch_id = b.branch_id\n",
    "LEFT JOIN accounts a ON m.member_id = a.member_id\n",
    "LEFT JOIN loans l ON m.member_id = l.member_id\n",
    "LEFT JOIN member_feedback mf ON m.member_id = mf.member_id\n",
    "GROUP BY b.branch_name, b.city, b.branch_type\n",
    "ORDER BY total_deposits DESC;\n"
   ]
  },
  {
   "cell_type": "markdown",
   "id": "ce110000-1111-2222-3333-ffffff000015",
   "metadata": {
    "name": "cell16"
   },
   "source": [
    "## 7. AI-Powered Executive Summary\n"
   ]
  },
  {
   "cell_type": "code",
   "execution_count": null,
   "id": "ce110000-1111-2222-3333-ffffff000016",
   "metadata": {
    "language": "sql",
    "name": "cell17",
    "vscode": {
     "languageId": "sql"
    }
   },
   "outputs": [],
   "source": [
    "-- Generate comprehensive business summary using AI\n",
    "WITH business_metrics AS (\n",
    "    SELECT \n",
    "        COUNT(DISTINCT m.member_id) as total_members,\n",
    "        COUNT(DISTINCT a.account_id) as total_accounts,\n",
    "        SUM(a.balance) as total_deposits,\n",
    "        COUNT(DISTINCT l.loan_id) as total_loans,\n",
    "        SUM(l.outstanding_balance) as total_loan_balance,\n",
    "        AVG(mf.rating) as avg_satisfaction,\n",
    "        COUNT(DISTINCT b.branch_id) as total_branches\n",
    "    FROM members m\n",
    "    LEFT JOIN accounts a ON m.member_id = a.member_id\n",
    "    LEFT JOIN loans l ON m.member_id = l.member_id\n",
    "    LEFT JOIN member_feedback mf ON m.member_id = mf.member_id\n",
    "    CROSS JOIN branches b\n",
    ")\n",
    "SELECT \n",
    "    total_members,\n",
    "    total_accounts,\n",
    "    total_deposits,\n",
    "    total_loans,\n",
    "    total_loan_balance,\n",
    "    ROUND(avg_satisfaction, 2) as avg_satisfaction,\n",
    "    total_branches,\n",
    "    -- AI-generated executive summary\n",
    "    SNOWFLAKE.CORTEX.COMPLETE(\n",
    "        'llama3-8b',\n",
    "        'Create an executive summary for Patelco Credit Union based on these metrics: ' ||\n",
    "        'Total Members: ' || total_members ||\n",
    "        ', Total Accounts: ' || total_accounts ||\n",
    "        ', Total Deposits: $' || ROUND(total_deposits, 0) ||\n",
    "        ', Total Loans: ' || total_loans ||\n",
    "        ', Total Loan Balance: $' || ROUND(total_loan_balance, 0) ||\n",
    "        ', Average Member Satisfaction: ' || ROUND(avg_satisfaction, 1) || '/5' ||\n",
    "        ', Total Branches: ' || total_branches ||\n",
    "        '. Provide a 3-paragraph executive summary highlighting key strengths, opportunities, and strategic recommendations.'\n",
    "    ) as executive_summary\n",
    "FROM business_metrics;\n"
   ]
  },
  {
   "cell_type": "markdown",
   "id": "0e724aa2-9a7c-4dd3-9dea-c0e38d908795",
   "metadata": {
    "name": "cell7"
   },
   "source": [
    "## 8. 🔒 CRITICAL DEMO: AI SQL with Governance Protection\n",
    "\n",
    "**This section demonstrates that AI SQL functions automatically inherit all governance policies including PII masking, row-level security, and role-based access control.**\n",
    "\n",
    "Prerequisites: Run the PII Governance notebook first to implement masking policies.\n"
   ]
  },
  {
   "cell_type": "code",
   "execution_count": null,
   "id": "e5094987-b838-49c0-b3bb-349582cc4f66",
   "metadata": {
    "language": "sql",
    "name": "cell9"
   },
   "outputs": [],
   "source": [
    "-- Test AI SQL with Compliance Officer (Full PII Access)\n",
    "USE ROLE compliance_officer;\n",
    "USE DATABASE PATELCO_DEMO;\n",
    "USE SCHEMA CREDIT_UNION_DATA;\n",
    "USE WAREHOUSE COMPUTE_WH;\n",
    "\n",
    "-- AI analysis with full member data access\n",
    "SELECT \n",
    "    'COMPLIANCE_OFFICER_AI_ANALYSIS' as test_scenario,\n",
    "    member_id,\n",
    "    first_name,  -- Will show real names\n",
    "    email,       -- Will show real emails\n",
    "    annual_income, -- Will show real income\n",
    "    -- AI function gets real data for compliance analysis\n",
    "    TRY_CAST(\n",
    "        SNOWFLAKE.CORTEX.COMPLETE(\n",
    "            'SNOWFLAKE.MODELS.\"CLAUDE-3-5-SONNET\"',\n",
    "            'Analyze this member profile for compliance review: ' ||\n",
    "            'Name: ' || first_name || ', Email: ' || email || \n",
    "            ', Income: $' || annual_income || '. Provide risk assessment.'\n",
    "        ) AS STRING\n",
    "    ) as ai_compliance_analysis,\n",
    "    'AI gets real member data for regulatory compliance' as governance_note\n",
    "FROM members \n",
    "WHERE city = 'San Francisco'\n",
    "LIMIT 5;\n",
    "\n",
    "-- ✅ RESULT: Compliance officer and AI see real PII data for oversight"
   ]
  },
  {
   "cell_type": "code",
   "execution_count": null,
   "id": "af5e9cb9-fd96-4c1b-8f41-b3eb1035030d",
   "metadata": {
    "language": "sql",
    "name": "cell19"
   },
   "outputs": [],
   "source": [
    "-- Test AI SQL with Data Analyst (Masked PII Access)\n",
    "USE ROLE data_analyst;\n",
    "USE DATABASE PATELCO_DEMO;\n",
    "USE SCHEMA CREDIT_UNION_DATA;\n",
    "USE WAREHOUSE COMPUTE_WH;\n",
    "\n",
    "-- Same AI analysis but with masked data\n",
    "SELECT \n",
    "    'DATA_ANALYST_AI_ANALYSIS' as test_scenario,\n",
    "    member_id,\n",
    "    first_name,  -- Will show '***PROTECTED***'\n",
    "    email,       -- Will show '***MASKED***'\n",
    "    annual_income, -- Will show income ranges (5000, 25000, etc.)\n",
    "    -- AI function gets MASKED data - protecting PII!\n",
    "    TRY_CAST(\n",
    "        SNOWFLAKE.CORTEX.COMPLETE(\n",
    "            'SNOWFLAKE.MODELS.\"CLAUDE-3-5-SONNET\"',\n",
    "            'Analyze this member profile for trend analysis: ' ||\n",
    "            'Name: ' || first_name || ', Email: ' || email || \n",
    "            ', Income: $' || annual_income || '. Provide insights.'\n",
    "        ) AS STRING\n",
    "    ) as ai_analysis_with_masked_data,\n",
    "    'AI gets masked data - PII is protected!' as governance_benefit\n",
    "FROM members \n",
    "WHERE city = 'San Francisco'\n",
    "LIMIT 5;\n",
    "\n",
    "-- ✅ RESULT: Data analyst and AI see masked PII data - protection verified!"
   ]
  },
  {
   "cell_type": "code",
   "execution_count": null,
   "id": "4bb47c25-014c-4bbf-86f6-720a66391f4a",
   "metadata": {
    "language": "sql",
    "name": "cell20"
   },
   "outputs": [],
   "source": [
    "-- Demonstrate AI SQL Governance Inheritance Across All Functions\n",
    "USE ROLE data_analyst;\n",
    "USE DATABASE PATELCO_DEMO;\n",
    "USE SCHEMA CREDIT_UNION_DATA;\n",
    "USE WAREHOUSE COMPUTE_WH;\n",
    "\n",
    "-- Test multiple AI functions with role-based data access\n",
    "SELECT \n",
    "    'COMPREHENSIVE_AI_GOVERNANCE_TEST' as test_type,\n",
    "    member_id,\n",
    "    -- These inputs will be masked based on data analyst role\n",
    "    first_name as ai_input_name,\n",
    "    email as ai_input_email,\n",
    "    annual_income as ai_input_income,\n",
    "    -- All AI functions inherit the same governance\n",
    "    TRY_CAST(SNOWFLAKE.CORTEX.SENTIMENT('Member ' || first_name || ' seems satisfied') AS FLOAT) as ai_sentiment_with_masked_name,\n",
    "    TRY_CAST(\n",
    "        SNOWFLAKE.CORTEX.COMPLETE(\n",
    "            'SNOWFLAKE.MODELS.\"CLAUDE-3-5-SONNET\"',\n",
    "            'Create a personalized greeting for member: ' || first_name\n",
    "        ) AS STRING\n",
    "    ) as ai_greeting_with_masked_name,\n",
    "    -- Verification of governance protection\n",
    "    CASE \n",
    "        WHEN first_name LIKE '%*%' THEN 'AI_FUNCTIONS_GET_MASKED_DATA'\n",
    "        ELSE 'AI_FUNCTIONS_GET_REAL_DATA'\n",
    "    END as governance_verification,\n",
    "    'All AI functions automatically respect role-based masking policies' as key_takeaway\n",
    "FROM members \n",
    "WHERE city = 'San Francisco'\n",
    "LIMIT 3;\n",
    "\n",
    "-- ✅ RESULT: Data analyst role means AI gets masked data for appropriate service level"
   ]
  },
  {
   "cell_type": "code",
   "execution_count": null,
   "id": "a255f576-c888-45c9-b2a7-aa894b0d660a",
   "metadata": {
    "language": "sql",
    "name": "cell21"
   },
   "outputs": [],
   "source": [
    "-- Executive Summary: AI SQL Governance Verification\n",
    "SELECT \n",
    "    'AI SQL GOVERNANCE EXECUTIVE SUMMARY' as report_title,\n",
    "    CURRENT_TIMESTAMP() as verification_timestamp,\n",
    "    OBJECT_CONSTRUCT(\n",
    "        '🔒 GOVERNANCE_STATUS', 'FULLY_INHERITED_BY_AI',\n",
    "        '🤖 AI_FUNCTIONS_TESTED', 'COMPLETE_SENTIMENT_EXTRACT',\n",
    "        '👥 ROLE_BASED_PROTECTION', 'VERIFIED_ACROSS_ALL_ROLES',\n",
    "        '🛡️ PII_MASKING_IN_AI', 'AUTOMATIC_AND_TRANSPARENT',\n",
    "        '✅ REGULATORY_COMPLIANCE', 'AI_RESPECTS_ALL_POLICIES',\n",
    "        '🎯 BUSINESS_IMPACT', 'SECURE_AI_WITHOUT_COMPROMISE',\n",
    "        '💡 KEY_INSIGHT', 'Zero additional configuration needed for AI governance'\n",
    "    ) as governance_verification;"
   ]
  },
  {
   "cell_type": "code",
   "execution_count": null,
   "id": "cb2a7bd8-98be-4140-bbe7-0ffd57f4dc3c",
   "metadata": {
    "language": "sql",
    "name": "cell22"
   },
   "outputs": [],
   "source": [
    "-- Generate comprehensive business summary using AI\n",
    "WITH business_metrics AS (\n",
    "    SELECT \n",
    "        COUNT(DISTINCT m.member_id) as total_members,\n",
    "        COUNT(DISTINCT a.account_id) as total_accounts,\n",
    "        SUM(a.balance) as total_deposits,\n",
    "        COUNT(DISTINCT l.loan_id) as total_loans,\n",
    "        SUM(l.outstanding_balance) as total_loan_balance,\n",
    "        AVG(mf.rating) as avg_satisfaction,\n",
    "        COUNT(DISTINCT b.branch_id) as total_branches\n",
    "    FROM members m\n",
    "    LEFT JOIN accounts a ON m.member_id = a.member_id\n",
    "    LEFT JOIN loans l ON m.member_id = l.member_id\n",
    "    LEFT JOIN member_feedback mf ON m.member_id = mf.member_id\n",
    "    CROSS JOIN branches b\n",
    ")\n",
    "SELECT \n",
    "    total_members,\n",
    "    total_accounts,\n",
    "    total_deposits,\n",
    "    total_loans,\n",
    "    total_loan_balance,\n",
    "    ROUND(avg_satisfaction, 2) as avg_satisfaction,\n",
    "    total_branches,\n",
    "    -- AI-generated executive summary\n",
    "    SNOWFLAKE.CORTEX.COMPLETE(\n",
    "        'llama3-8b',\n",
    "        'Create an executive summary for Patelco Credit Union based on these metrics: ' ||\n",
    "        'Total Members: ' || total_members ||\n",
    "        ', Total Accounts: ' || total_accounts ||\n",
    "        ', Total Deposits: $' || ROUND(total_deposits, 0) ||\n",
    "        ', Total Loans: ' || total_loans ||\n",
    "        ', Total Loan Balance: $' || ROUND(total_loan_balance, 0) ||\n",
    "        ', Average Member Satisfaction: ' || ROUND(avg_satisfaction, 1) || '/5' ||\n",
    "        ', Total Branches: ' || total_branches ||\n",
    "        '. Provide a 3-paragraph executive summary highlighting key strengths, opportunities, and strategic recommendations.'\n",
    "    ) as executive_summary\n",
    "FROM business_metrics;"
   ]
  }
 ],
 "metadata": {
  "language_info": {
   "name": "python"
  },
  "lastEditStatus": {
   "authorEmail": "caleb.alexander@snowflake.com",
   "authorId": "3161816716563",
   "authorName": "CALEXANDER",
   "lastEditTime": 1757552133142,
   "notebookId": "ul5vhabukdslsdxyh23f",
   "sessionId": "f6fe2384-9ac2-4a2a-8a2a-c11a50541103"
  }
 },
 "nbformat": 4,
 "nbformat_minor": 2
}
